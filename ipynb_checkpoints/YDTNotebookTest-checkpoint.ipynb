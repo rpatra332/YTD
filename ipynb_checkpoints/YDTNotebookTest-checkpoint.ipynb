{
 "cells": [
  {
   "cell_type": "markdown",
   "metadata": {},
   "source": [
    "# YTD"
   ]
  },
  {
   "cell_type": "markdown",
   "metadata": {},
   "source": [
    "### Importing Required Libraries"
   ]
  },
  {
   "cell_type": "code",
   "execution_count": null,
   "metadata": {},
   "outputs": [],
   "source": [
    "from pytube import YouTube\n",
    "import tkinter as tk\n",
    "from tkinter import filedialog, messagebox, Entry, Label, Button, StringVar, FLAT"
   ]
  },
  {
   "cell_type": "markdown",
   "metadata": {},
   "source": [
    "### GUI Components (Widgets)"
   ]
  },
  {
   "cell_type": "code",
   "execution_count": null,
   "metadata": {},
   "outputs": [],
   "source": [
    "def GUIComponents():\n",
    "\n",
    "    intro_label = Label(root, text='YouTube Video Downloader', padx=10, pady=15, font=('SegoeUI', 14,'bold'), bg='whitesmoke', fg='blue')\n",
    "    intro_label.grid(row=1, column=1, padx=5, pady=5)\n",
    "    \n",
    "    link_label  = Label(root, text='Video Link : ', padx=5, pady=5, font='SegoeUI 14', bg='whitesmoke', fg='black')\n",
    "    link_label.grid(row=2, column=0, padx=5, pady=5)\n",
    "    \n",
    "    dest_label  = Label(root, text='Destination :', padx=5, pady=5, font='SegoeUI 14', bg='whitesmoke', fg='black')\n",
    "    dest_label.grid(row=3, column=0, padx=5, pady=5)\n",
    "\n",
    "    link_text = Entry(root, textvariable=video_link, width=49)\n",
    "    link_text.grid(row=2, column=1, padx=5, pady=5, columnspan=2)\n",
    "    \n",
    "    dest_text = Entry(root, textvariable=destination, width=35)\n",
    "    dest_text.grid(row=3, column=1, padx=5, pady=5)\n",
    "    \n",
    "    browse_button = Button(root, text='Browse', command=browse, width=10, bg='bisque', relief=FLAT)\n",
    "    browse_button.grid(row=3, column=2, padx=1, pady=1)\n",
    "    \n",
    "    download_button = Button(root,text='Download Video', command=download, width=20, bg='thistle1', padx=15, pady=10, relief=FLAT, font=('Georgia',14))\n",
    "    download_button.grid(row=4, column=1, padx=20, pady=20) "
   ]
  },
  {
   "cell_type": "markdown",
   "metadata": {},
   "source": [
    "### Browse Function"
   ]
  },
  {
   "cell_type": "code",
   "execution_count": null,
   "metadata": {},
   "outputs": [],
   "source": [
    "def browse():\n",
    "    download_Directory = filedialog.askdirectory(initialdir=\"YOUR DIRECTORY PATH\", title=\"Save Video\")\n",
    "    destination.set(download_Directory)"
   ]
  },
  {
   "cell_type": "markdown",
   "metadata": {},
   "source": [
    "### Download Function"
   ]
  },
  {
   "cell_type": "code",
   "execution_count": null,
   "metadata": {},
   "outputs": [],
   "source": [
    "def download():\n",
    "    #ask for the link from user\n",
    "    yt = YouTube(video_link.get())\n",
    "\n",
    "    #Showing details\n",
    "    print(\"Title: \",yt.title)\n",
    "    print(\"Number of views: \",yt.views)\n",
    "    print(\"Length of video: \",yt.length)\n",
    "    \n",
    "    #Getting the highest resolution possible\n",
    "    ys = yt.streams.get_highest_resolution()\n",
    "    \n",
    "    #Starting download\n",
    "    print(\"Downloading...\")\n",
    "    ys.download('./')\n",
    "    print(\"Download completed!!\")\n",
    "    \n",
    "    messagebox.showinfo(\"SUCCESSFULLY\",\"DOWNLOADED AND SAVED IN\\n\"+ str(destination))"
   ]
  },
  {
   "cell_type": "markdown",
   "metadata": {},
   "source": [
    "### main Function"
   ]
  },
  {
   "cell_type": "code",
   "execution_count": null,
   "metadata": {},
   "outputs": [],
   "source": [
    "if __name__=\"__main__\"\n",
    "    root = tk.Tk()\n",
    "\n",
    "    root.geometry(\"520x280\")\n",
    "    root.resizable(False, False)\n",
    "    root.title('YouTube Video Downloader')\n",
    "    root.config(background='Whitesmoke')\n",
    "\n",
    "    video_link = StringVar()\n",
    "    destination = StringVar()\n",
    "\n",
    "    GUIComponents()\n",
    "\n",
    "    root.mainloop()"
   ]
  },
  {
   "cell_type": "markdown",
   "metadata": {},
   "source": [
    "# $END"
   ]
  }
 ],
 "metadata": {
  "kernelspec": {
   "display_name": "Python 3",
   "language": "python",
   "name": "python3"
  },
  "language_info": {
   "codemirror_mode": {
    "name": "ipython",
    "version": 3
   },
   "file_extension": ".py",
   "mimetype": "text/x-python",
   "name": "python",
   "nbconvert_exporter": "python",
   "pygments_lexer": "ipython3",
   "version": "3.8.3"
  }
 },
 "nbformat": 4,
 "nbformat_minor": 4
}
